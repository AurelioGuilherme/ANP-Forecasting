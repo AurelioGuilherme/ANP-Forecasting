{
 "cells": [
  {
   "cell_type": "markdown",
   "metadata": {},
   "source": [
    "# ANP Forecasting de Preços de Combustiveis"
   ]
  },
  {
   "cell_type": "markdown",
   "metadata": {},
   "source": [
    "### Carregamento de Dados"
   ]
  },
  {
   "cell_type": "code",
   "execution_count": 1,
   "metadata": {},
   "outputs": [],
   "source": [
    "# Carregamento de bibliotecas\n",
    "import pandas as pd"
   ]
  },
  {
   "cell_type": "code",
   "execution_count": 4,
   "metadata": {},
   "outputs": [
    {
     "data": {
      "text/html": [
       "<div>\n",
       "<style scoped>\n",
       "    .dataframe tbody tr th:only-of-type {\n",
       "        vertical-align: middle;\n",
       "    }\n",
       "\n",
       "    .dataframe tbody tr th {\n",
       "        vertical-align: top;\n",
       "    }\n",
       "\n",
       "    .dataframe thead th {\n",
       "        text-align: right;\n",
       "    }\n",
       "</style>\n",
       "<table border=\"1\" class=\"dataframe\">\n",
       "  <thead>\n",
       "    <tr style=\"text-align: right;\">\n",
       "      <th></th>\n",
       "      <th>DATA INICIAL</th>\n",
       "      <th>DATA FINAL</th>\n",
       "      <th>ESTADO</th>\n",
       "      <th>MUNICÍPIO</th>\n",
       "      <th>PRODUTO</th>\n",
       "      <th>NÚMERO DE POSTOS PESQUISADOS</th>\n",
       "      <th>UNIDADE DE MEDIDA</th>\n",
       "      <th>PREÇO MÉDIO REVENDA</th>\n",
       "      <th>DESVIO PADRÃO REVENDA</th>\n",
       "      <th>PREÇO MÍNIMO REVENDA</th>\n",
       "      <th>PREÇO MÁXIMO REVENDA</th>\n",
       "      <th>COEF DE VARIAÇÃO REVENDA</th>\n",
       "      <th>periodo_referencia</th>\n",
       "    </tr>\n",
       "  </thead>\n",
       "  <tbody>\n",
       "    <tr>\n",
       "      <th>0</th>\n",
       "      <td>2023-08-27 00:00:00</td>\n",
       "      <td>2023-09-02 00:00:00</td>\n",
       "      <td>SERGIPE</td>\n",
       "      <td>ARACAJU</td>\n",
       "      <td>ETANOL HIDRATADO</td>\n",
       "      <td>16</td>\n",
       "      <td>R$/l</td>\n",
       "      <td>4.79</td>\n",
       "      <td>0.095708</td>\n",
       "      <td>4.57</td>\n",
       "      <td>4.89</td>\n",
       "      <td>0.020</td>\n",
       "      <td>2023-08-27 a 2023-09-02</td>\n",
       "    </tr>\n",
       "    <tr>\n",
       "      <th>1</th>\n",
       "      <td>2023-08-27 00:00:00</td>\n",
       "      <td>2023-09-02 00:00:00</td>\n",
       "      <td>PARA</td>\n",
       "      <td>BELEM</td>\n",
       "      <td>ETANOL HIDRATADO</td>\n",
       "      <td>7</td>\n",
       "      <td>R$/l</td>\n",
       "      <td>4.66</td>\n",
       "      <td>0.328655</td>\n",
       "      <td>4.29</td>\n",
       "      <td>5.19</td>\n",
       "      <td>0.071</td>\n",
       "      <td>2023-08-27 a 2023-09-02</td>\n",
       "    </tr>\n",
       "    <tr>\n",
       "      <th>2</th>\n",
       "      <td>2023-08-27 00:00:00</td>\n",
       "      <td>2023-09-02 00:00:00</td>\n",
       "      <td>MINAS GERAIS</td>\n",
       "      <td>BELO HORIZONTE</td>\n",
       "      <td>ETANOL HIDRATADO</td>\n",
       "      <td>40</td>\n",
       "      <td>R$/l</td>\n",
       "      <td>3.50</td>\n",
       "      <td>0.108223</td>\n",
       "      <td>3.34</td>\n",
       "      <td>3.79</td>\n",
       "      <td>0.031</td>\n",
       "      <td>2023-08-27 a 2023-09-02</td>\n",
       "    </tr>\n",
       "    <tr>\n",
       "      <th>3</th>\n",
       "      <td>2023-08-27 00:00:00</td>\n",
       "      <td>2023-09-02 00:00:00</td>\n",
       "      <td>RORAIMA</td>\n",
       "      <td>BOA VISTA</td>\n",
       "      <td>ETANOL HIDRATADO</td>\n",
       "      <td>4</td>\n",
       "      <td>R$/l</td>\n",
       "      <td>4.94</td>\n",
       "      <td>0.140000</td>\n",
       "      <td>4.87</td>\n",
       "      <td>5.15</td>\n",
       "      <td>0.028</td>\n",
       "      <td>2023-08-27 a 2023-09-02</td>\n",
       "    </tr>\n",
       "    <tr>\n",
       "      <th>4</th>\n",
       "      <td>2023-08-27 00:00:00</td>\n",
       "      <td>2023-09-02 00:00:00</td>\n",
       "      <td>DISTRITO FEDERAL</td>\n",
       "      <td>BRASILIA</td>\n",
       "      <td>ETANOL HIDRATADO</td>\n",
       "      <td>49</td>\n",
       "      <td>R$/l</td>\n",
       "      <td>3.77</td>\n",
       "      <td>0.142499</td>\n",
       "      <td>3.58</td>\n",
       "      <td>3.99</td>\n",
       "      <td>0.038</td>\n",
       "      <td>2023-08-27 a 2023-09-02</td>\n",
       "    </tr>\n",
       "  </tbody>\n",
       "</table>\n",
       "</div>"
      ],
      "text/plain": [
       "          DATA INICIAL           DATA FINAL            ESTADO       MUNICÍPIO  \\\n",
       "0  2023-08-27 00:00:00  2023-09-02 00:00:00           SERGIPE         ARACAJU   \n",
       "1  2023-08-27 00:00:00  2023-09-02 00:00:00              PARA           BELEM   \n",
       "2  2023-08-27 00:00:00  2023-09-02 00:00:00      MINAS GERAIS  BELO HORIZONTE   \n",
       "3  2023-08-27 00:00:00  2023-09-02 00:00:00           RORAIMA       BOA VISTA   \n",
       "4  2023-08-27 00:00:00  2023-09-02 00:00:00  DISTRITO FEDERAL        BRASILIA   \n",
       "\n",
       "            PRODUTO  NÚMERO DE POSTOS PESQUISADOS UNIDADE DE MEDIDA  \\\n",
       "0  ETANOL HIDRATADO                            16              R$/l   \n",
       "1  ETANOL HIDRATADO                             7              R$/l   \n",
       "2  ETANOL HIDRATADO                            40              R$/l   \n",
       "3  ETANOL HIDRATADO                             4              R$/l   \n",
       "4  ETANOL HIDRATADO                            49              R$/l   \n",
       "\n",
       "   PREÇO MÉDIO REVENDA  DESVIO PADRÃO REVENDA  PREÇO MÍNIMO REVENDA  \\\n",
       "0                 4.79               0.095708                  4.57   \n",
       "1                 4.66               0.328655                  4.29   \n",
       "2                 3.50               0.108223                  3.34   \n",
       "3                 4.94               0.140000                  4.87   \n",
       "4                 3.77               0.142499                  3.58   \n",
       "\n",
       "   PREÇO MÁXIMO REVENDA  COEF DE VARIAÇÃO REVENDA       periodo_referencia  \n",
       "0                  4.89                     0.020  2023-08-27 a 2023-09-02  \n",
       "1                  5.19                     0.071  2023-08-27 a 2023-09-02  \n",
       "2                  3.79                     0.031  2023-08-27 a 2023-09-02  \n",
       "3                  5.15                     0.028  2023-08-27 a 2023-09-02  \n",
       "4                  3.99                     0.038  2023-08-27 a 2023-09-02  "
      ]
     },
     "execution_count": 4,
     "metadata": {},
     "output_type": "execute_result"
    }
   ],
   "source": [
    "# Carregamento de dados\n",
    "url_data = \"https://raw.githubusercontent.com/AurelioGuilherme/ANP-ETL/refs/heads/main/Data/Data-silver/dados_combustiveis_anp.csv\"\n",
    "df = pd.read_csv(url_data)\n",
    "df.head()"
   ]
  },
  {
   "cell_type": "markdown",
   "metadata": {},
   "source": [
    "### Tratamento de Dados"
   ]
  },
  {
   "cell_type": "markdown",
   "metadata": {},
   "source": [
    "### Modelagem"
   ]
  },
  {
   "cell_type": "markdown",
   "metadata": {},
   "source": [
    "### Validação"
   ]
  }
 ],
 "metadata": {
  "kernelspec": {
   "display_name": ".venv",
   "language": "python",
   "name": "python3"
  },
  "language_info": {
   "codemirror_mode": {
    "name": "ipython",
    "version": 3
   },
   "file_extension": ".py",
   "mimetype": "text/x-python",
   "name": "python",
   "nbconvert_exporter": "python",
   "pygments_lexer": "ipython3",
   "version": "3.13.1"
  }
 },
 "nbformat": 4,
 "nbformat_minor": 2
}
